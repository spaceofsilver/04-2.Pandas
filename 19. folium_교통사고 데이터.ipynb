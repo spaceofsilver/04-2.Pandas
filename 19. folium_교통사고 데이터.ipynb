{
 "cells": [
  {
   "cell_type": "code",
   "execution_count": 5,
   "metadata": {},
   "outputs": [],
   "source": [
    "from bs4 import BeautifulSoup\n",
    "import urllib.request as REQ\n",
    "import pandas as pd\n",
    "import numpy as np\n",
    "\n",
    "import matplotlib.pyplot as plt\n",
    "import matplotlib\n",
    "matplotlib.rcParams['font.family']='Malgun Gothic'\n",
    "matplotlib.rcParams['axes.unicode_minus']=False"
   ]
  },
  {
   "cell_type": "code",
   "execution_count": 6,
   "metadata": {
    "collapsed": true
   },
   "outputs": [
    {
     "name": "stdout",
     "output_type": "stream",
     "text": [
      "Collecting folium\n",
      "  Using cached folium-0.11.0-py2.py3-none-any.whl (93 kB)\n",
      "Collecting branca>=0.3.0\n",
      "  Downloading branca-0.4.2-py3-none-any.whl (24 kB)\n",
      "Requirement already satisfied: numpy in c:\\users\\master4\\anaconda3\\lib\\site-packages (from folium) (1.18.1)\n",
      "Requirement already satisfied: jinja2>=2.9 in c:\\users\\master4\\anaconda3\\lib\\site-packages (from folium) (2.11.1)\n",
      "Requirement already satisfied: requests in c:\\users\\master4\\anaconda3\\lib\\site-packages (from folium) (2.22.0)\n",
      "Requirement already satisfied: MarkupSafe>=0.23 in c:\\users\\master4\\anaconda3\\lib\\site-packages (from jinja2>=2.9->folium) (1.1.1)\n",
      "Requirement already satisfied: idna<2.9,>=2.5 in c:\\users\\master4\\anaconda3\\lib\\site-packages (from requests->folium) (2.8)\n",
      "Requirement already satisfied: chardet<3.1.0,>=3.0.2 in c:\\users\\master4\\anaconda3\\lib\\site-packages (from requests->folium) (3.0.4)\n",
      "Requirement already satisfied: urllib3!=1.25.0,!=1.25.1,<1.26,>=1.21.1 in c:\\users\\master4\\anaconda3\\lib\\site-packages (from requests->folium) (1.25.8)\n",
      "Requirement already satisfied: certifi>=2017.4.17 in c:\\users\\master4\\anaconda3\\lib\\site-packages (from requests->folium) (2019.11.28)\n",
      "Installing collected packages: branca, folium\n",
      "Successfully installed branca-0.4.2 folium-0.11.0\n"
     ]
    }
   ],
   "source": [
    "# ! pip install folium"
   ]
  },
  {
   "cell_type": "code",
   "execution_count": 7,
   "metadata": {},
   "outputs": [],
   "source": [
    "# ! pip install folium\n",
    "# 파이썬에서 지도를 사용할 수 있는(키 등록 필요 없는)\n",
    "import folium"
   ]
  },
  {
   "cell_type": "markdown",
   "metadata": {},
   "source": [
    "## *지도\n",
    "- folium 라이브러리\n",
    "- Marker() 사용시 한글 깨짐 문제\n",
    "    - html로 저장"
   ]
  },
  {
   "cell_type": "code",
   "execution_count": 8,
   "metadata": {},
   "outputs": [
    {
     "data": {
      "text/html": [
       "<div style=\"width:100%;\"><div style=\"position:relative;width:100%;height:0;padding-bottom:60%;\"><span style=\"color:#565656\">Make this Notebook Trusted to load map: File -> Trust Notebook</span><iframe src=\"about:blank\" style=\"position:absolute;width:100%;height:100%;left:0;top:0;border:none !important;\" data-html=%3C%21DOCTYPE%20html%3E%0A%3Chead%3E%20%20%20%20%0A%20%20%20%20%3Cmeta%20http-equiv%3D%22content-type%22%20content%3D%22text/html%3B%20charset%3DUTF-8%22%20/%3E%0A%20%20%20%20%0A%20%20%20%20%20%20%20%20%3Cscript%3E%0A%20%20%20%20%20%20%20%20%20%20%20%20L_NO_TOUCH%20%3D%20false%3B%0A%20%20%20%20%20%20%20%20%20%20%20%20L_DISABLE_3D%20%3D%20false%3B%0A%20%20%20%20%20%20%20%20%3C/script%3E%0A%20%20%20%20%0A%20%20%20%20%3Cscript%20src%3D%22https%3A//cdn.jsdelivr.net/npm/leaflet%401.6.0/dist/leaflet.js%22%3E%3C/script%3E%0A%20%20%20%20%3Cscript%20src%3D%22https%3A//code.jquery.com/jquery-1.12.4.min.js%22%3E%3C/script%3E%0A%20%20%20%20%3Cscript%20src%3D%22https%3A//maxcdn.bootstrapcdn.com/bootstrap/3.2.0/js/bootstrap.min.js%22%3E%3C/script%3E%0A%20%20%20%20%3Cscript%20src%3D%22https%3A//cdnjs.cloudflare.com/ajax/libs/Leaflet.awesome-markers/2.0.2/leaflet.awesome-markers.js%22%3E%3C/script%3E%0A%20%20%20%20%3Clink%20rel%3D%22stylesheet%22%20href%3D%22https%3A//cdn.jsdelivr.net/npm/leaflet%401.6.0/dist/leaflet.css%22/%3E%0A%20%20%20%20%3Clink%20rel%3D%22stylesheet%22%20href%3D%22https%3A//maxcdn.bootstrapcdn.com/bootstrap/3.2.0/css/bootstrap.min.css%22/%3E%0A%20%20%20%20%3Clink%20rel%3D%22stylesheet%22%20href%3D%22https%3A//maxcdn.bootstrapcdn.com/bootstrap/3.2.0/css/bootstrap-theme.min.css%22/%3E%0A%20%20%20%20%3Clink%20rel%3D%22stylesheet%22%20href%3D%22https%3A//maxcdn.bootstrapcdn.com/font-awesome/4.6.3/css/font-awesome.min.css%22/%3E%0A%20%20%20%20%3Clink%20rel%3D%22stylesheet%22%20href%3D%22https%3A//cdnjs.cloudflare.com/ajax/libs/Leaflet.awesome-markers/2.0.2/leaflet.awesome-markers.css%22/%3E%0A%20%20%20%20%3Clink%20rel%3D%22stylesheet%22%20href%3D%22https%3A//rawcdn.githack.com/python-visualization/folium/master/folium/templates/leaflet.awesome.rotate.css%22/%3E%0A%20%20%20%20%3Cstyle%3Ehtml%2C%20body%20%7Bwidth%3A%20100%25%3Bheight%3A%20100%25%3Bmargin%3A%200%3Bpadding%3A%200%3B%7D%3C/style%3E%0A%20%20%20%20%3Cstyle%3E%23map%20%7Bposition%3Aabsolute%3Btop%3A0%3Bbottom%3A0%3Bright%3A0%3Bleft%3A0%3B%7D%3C/style%3E%0A%20%20%20%20%0A%20%20%20%20%20%20%20%20%20%20%20%20%3Cmeta%20name%3D%22viewport%22%20content%3D%22width%3Ddevice-width%2C%0A%20%20%20%20%20%20%20%20%20%20%20%20%20%20%20%20initial-scale%3D1.0%2C%20maximum-scale%3D1.0%2C%20user-scalable%3Dno%22%20/%3E%0A%20%20%20%20%20%20%20%20%20%20%20%20%3Cstyle%3E%0A%20%20%20%20%20%20%20%20%20%20%20%20%20%20%20%20%23map_4ed8008139424218a3ef2c728acc266c%20%7B%0A%20%20%20%20%20%20%20%20%20%20%20%20%20%20%20%20%20%20%20%20position%3A%20relative%3B%0A%20%20%20%20%20%20%20%20%20%20%20%20%20%20%20%20%20%20%20%20width%3A%20100.0%25%3B%0A%20%20%20%20%20%20%20%20%20%20%20%20%20%20%20%20%20%20%20%20height%3A%20100.0%25%3B%0A%20%20%20%20%20%20%20%20%20%20%20%20%20%20%20%20%20%20%20%20left%3A%200.0%25%3B%0A%20%20%20%20%20%20%20%20%20%20%20%20%20%20%20%20%20%20%20%20top%3A%200.0%25%3B%0A%20%20%20%20%20%20%20%20%20%20%20%20%20%20%20%20%7D%0A%20%20%20%20%20%20%20%20%20%20%20%20%3C/style%3E%0A%20%20%20%20%20%20%20%20%0A%3C/head%3E%0A%3Cbody%3E%20%20%20%20%0A%20%20%20%20%0A%20%20%20%20%20%20%20%20%20%20%20%20%3Cdiv%20class%3D%22folium-map%22%20id%3D%22map_4ed8008139424218a3ef2c728acc266c%22%20%3E%3C/div%3E%0A%20%20%20%20%20%20%20%20%0A%3C/body%3E%0A%3Cscript%3E%20%20%20%20%0A%20%20%20%20%0A%20%20%20%20%20%20%20%20%20%20%20%20var%20map_4ed8008139424218a3ef2c728acc266c%20%3D%20L.map%28%0A%20%20%20%20%20%20%20%20%20%20%20%20%20%20%20%20%22map_4ed8008139424218a3ef2c728acc266c%22%2C%0A%20%20%20%20%20%20%20%20%20%20%20%20%20%20%20%20%7B%0A%20%20%20%20%20%20%20%20%20%20%20%20%20%20%20%20%20%20%20%20center%3A%20%5B35.23272308926247%2C%20129.08276451409182%5D%2C%0A%20%20%20%20%20%20%20%20%20%20%20%20%20%20%20%20%20%20%20%20crs%3A%20L.CRS.EPSG3857%2C%0A%20%20%20%20%20%20%20%20%20%20%20%20%20%20%20%20%20%20%20%20zoom%3A%2015%2C%0A%20%20%20%20%20%20%20%20%20%20%20%20%20%20%20%20%20%20%20%20zoomControl%3A%20true%2C%0A%20%20%20%20%20%20%20%20%20%20%20%20%20%20%20%20%20%20%20%20preferCanvas%3A%20false%2C%0A%20%20%20%20%20%20%20%20%20%20%20%20%20%20%20%20%7D%0A%20%20%20%20%20%20%20%20%20%20%20%20%29%3B%0A%0A%20%20%20%20%20%20%20%20%20%20%20%20%0A%0A%20%20%20%20%20%20%20%20%0A%20%20%20%20%0A%20%20%20%20%20%20%20%20%20%20%20%20var%20tile_layer_aac4d2b9dfdd4e168a8b3ea74bfd4273%20%3D%20L.tileLayer%28%0A%20%20%20%20%20%20%20%20%20%20%20%20%20%20%20%20%22https%3A//%7Bs%7D.tile.openstreetmap.org/%7Bz%7D/%7Bx%7D/%7By%7D.png%22%2C%0A%20%20%20%20%20%20%20%20%20%20%20%20%20%20%20%20%7B%22attribution%22%3A%20%22Data%20by%20%5Cu0026copy%3B%20%5Cu003ca%20href%3D%5C%22http%3A//openstreetmap.org%5C%22%5Cu003eOpenStreetMap%5Cu003c/a%5Cu003e%2C%20under%20%5Cu003ca%20href%3D%5C%22http%3A//www.openstreetmap.org/copyright%5C%22%5Cu003eODbL%5Cu003c/a%5Cu003e.%22%2C%20%22detectRetina%22%3A%20false%2C%20%22maxNativeZoom%22%3A%2018%2C%20%22maxZoom%22%3A%2018%2C%20%22minZoom%22%3A%200%2C%20%22noWrap%22%3A%20false%2C%20%22opacity%22%3A%201%2C%20%22subdomains%22%3A%20%22abc%22%2C%20%22tms%22%3A%20false%7D%0A%20%20%20%20%20%20%20%20%20%20%20%20%29.addTo%28map_4ed8008139424218a3ef2c728acc266c%29%3B%0A%20%20%20%20%20%20%20%20%0A%20%20%20%20%0A%20%20%20%20%20%20%20%20%20%20%20%20var%20marker_556e87260213473393b3206c9a4479a3%20%3D%20L.marker%28%0A%20%20%20%20%20%20%20%20%20%20%20%20%20%20%20%20%5B35.23272308926247%2C%20129.08276451409182%5D%2C%0A%20%20%20%20%20%20%20%20%20%20%20%20%20%20%20%20%7B%7D%0A%20%20%20%20%20%20%20%20%20%20%20%20%29.addTo%28map_4ed8008139424218a3ef2c728acc266c%29%3B%0A%20%20%20%20%20%20%20%20%0A%20%20%20%20%0A%20%20%20%20%20%20%20%20var%20popup_520bc076bc2c44019b4b2d838b7d3b1e%20%3D%20L.popup%28%7B%22maxWidth%22%3A%20%22100%25%22%7D%29%3B%0A%0A%20%20%20%20%20%20%20%20%0A%20%20%20%20%20%20%20%20%20%20%20%20var%20html_05dc7c3a0c37446b86f228774790c9d6%20%3D%20%24%28%60%3Cdiv%20id%3D%22html_05dc7c3a0c37446b86f228774790c9d6%22%20style%3D%22width%3A%20100.0%25%3B%20height%3A%20100.0%25%3B%22%3EPNU%3C/div%3E%60%29%5B0%5D%3B%0A%20%20%20%20%20%20%20%20%20%20%20%20popup_520bc076bc2c44019b4b2d838b7d3b1e.setContent%28html_05dc7c3a0c37446b86f228774790c9d6%29%3B%0A%20%20%20%20%20%20%20%20%0A%0A%20%20%20%20%20%20%20%20marker_556e87260213473393b3206c9a4479a3.bindPopup%28popup_520bc076bc2c44019b4b2d838b7d3b1e%29%0A%20%20%20%20%20%20%20%20%3B%0A%0A%20%20%20%20%20%20%20%20%0A%20%20%20%20%0A%20%20%20%20%0A%20%20%20%20%20%20%20%20%20%20%20%20var%20marker_9211fe302f6a46cf934c664cecaf551d%20%3D%20L.marker%28%0A%20%20%20%20%20%20%20%20%20%20%20%20%20%20%20%20%5B35.234677321753196%2C%20129.07859099720366%5D%2C%0A%20%20%20%20%20%20%20%20%20%20%20%20%20%20%20%20%7B%7D%0A%20%20%20%20%20%20%20%20%20%20%20%20%29.addTo%28map_4ed8008139424218a3ef2c728acc266c%29%3B%0A%20%20%20%20%20%20%20%20%0A%20%20%20%20%0A%20%20%20%20%20%20%20%20var%20popup_41a17ae07fb946b6922437b69f35a6fc%20%3D%20L.popup%28%7B%22maxWidth%22%3A%20%22100%25%22%7D%29%3B%0A%0A%20%20%20%20%20%20%20%20%0A%20%20%20%20%20%20%20%20%20%20%20%20var%20html_b0633c638d2b4cf78d4cae1bb7209bfb%20%3D%20%24%28%60%3Cdiv%20id%3D%22html_b0633c638d2b4cf78d4cae1bb7209bfb%22%20style%3D%22width%3A%20100.0%25%3B%20height%3A%20100.0%25%3B%22%3EPNU%20LIB%3C/div%3E%60%29%5B0%5D%3B%0A%20%20%20%20%20%20%20%20%20%20%20%20popup_41a17ae07fb946b6922437b69f35a6fc.setContent%28html_b0633c638d2b4cf78d4cae1bb7209bfb%29%3B%0A%20%20%20%20%20%20%20%20%0A%0A%20%20%20%20%20%20%20%20marker_9211fe302f6a46cf934c664cecaf551d.bindPopup%28popup_41a17ae07fb946b6922437b69f35a6fc%29%0A%20%20%20%20%20%20%20%20%3B%0A%0A%20%20%20%20%20%20%20%20%0A%20%20%20%20%0A%3C/script%3E onload=\"this.contentDocument.open();this.contentDocument.write(    decodeURIComponent(this.getAttribute('data-html')));this.contentDocument.close();\" allowfullscreen webkitallowfullscreen mozallowfullscreen></iframe></div></div>"
      ],
      "text/plain": [
       "<folium.folium.Map at 0x1b33be22848>"
      ]
     },
     "execution_count": 8,
     "metadata": {},
     "output_type": "execute_result"
    }
   ],
   "source": [
    "map = folium.Map(  location=(35.23272308926247, 129.08276451409182),\n",
    "                   zoom_start=15               \n",
    "                  )\n",
    "mk = folium.Marker( location=(35.23272308926247, 129.08276451409182),\n",
    "                  popup = 'PNU'\n",
    "             )\n",
    "mk1 = folium.Marker( location=(35.234677321753196, 129.07859099720366),\n",
    "                  popup = 'PNU LIB'\n",
    "             )\n",
    "mk.add_to(map)\n",
    "mk1.add_to(map)\n",
    "map #save( 'a.html' ) # html로 저장하면 한글 안 깨진다"
   ]
  },
  {
   "cell_type": "markdown",
   "metadata": {},
   "source": [
    "## [교통사고 데이터]"
   ]
  },
  {
   "cell_type": "code",
   "execution_count": 9,
   "metadata": {},
   "outputs": [
    {
     "data": {
      "text/plain": [
       "(3657, 26)"
      ]
     },
     "execution_count": 9,
     "metadata": {},
     "output_type": "execute_result"
    }
   ],
   "source": [
    "filepath = '../data/'\n",
    "df = pd.read_csv( filepath +'도로교통공단_전국_사망교통사고정보(2018).csv', \n",
    "                  encoding='euc-kr', \n",
    "                  index_col=0 )\n",
    "df.shape"
   ]
  },
  {
   "cell_type": "code",
   "execution_count": 10,
   "metadata": {},
   "outputs": [
    {
     "data": {
      "text/plain": [
       "Index(['발생년월일시', '발생분', '주야', '요일', '사망자수', '사상자수', '중상자수', '경상자수', '부상신고자수',\n",
       "       '발생지시도', '발생지시군구', '사고유형_대분류', '사고유형_중분류', '사고유형', '법규위반_대분류', '법규위반',\n",
       "       '도로형태_대분류', '도로형태', '가해자_당사자종별_대분류', '가해자_당사자종별', '피해자_당사자종별_대분류',\n",
       "       '피해자_당사자종별', '발생위치X_UTMK', '발생위치Y_UTMK', '경도', '위도'],\n",
       "      dtype='object')"
      ]
     },
     "execution_count": 10,
     "metadata": {},
     "output_type": "execute_result"
    }
   ],
   "source": [
    "# len( df.columns ) 26개 컬럼\n",
    "df.columns"
   ]
  },
  {
   "cell_type": "markdown",
   "metadata": {},
   "source": [
    "## 연습문제"
   ]
  },
  {
   "cell_type": "code",
   "execution_count": null,
   "metadata": {},
   "outputs": [],
   "source": [
    "1. 부산에서 일어난 요일별\n",
    "사망자수, 사상자수 를 출력하시요\n",
    "\n",
    "2. 부산 사하구 지역의 교통사고 위치를\n",
    "지도로 표시하고 각마커에는 법규위반내용\n",
    "을 표시하시요\n",
    "\n",
    "3. 부산에서 발생한 총 사망자수를 구하시요\n",
    "\n",
    "4. 부산지역 월요일에 발생한 사상자수\n",
    "사고유형 법규위반을 구하시요\n",
    "\n",
    "5.횡단중 일어난 사고의 요일 \n",
    "발생지시도, 법규위반, 피해자_당사자종별\n",
    "을 구하시요"
   ]
  },
  {
   "cell_type": "code",
   "execution_count": 17,
   "metadata": {},
   "outputs": [
    {
     "data": {
      "text/plain": [
       "array(['금', '목', '수', '월', '일', '토', '화'], dtype=object)"
      ]
     },
     "execution_count": 17,
     "metadata": {},
     "output_type": "execute_result"
    }
   ],
   "source": [
    "# 1. 부산에서 일어난 요일별\n",
    "# 사망자수, 사상자수 를 출력하시요\n",
    "\n",
    "df[df['발생지시도'] == '부산']['요일'].unique()\n",
    "\n",
    "np.sort( df[df['발생지시도'] == '부산']['요일'].unique() )"
   ]
  },
  {
   "cell_type": "code",
   "execution_count": 46,
   "metadata": {},
   "outputs": [
    {
     "data": {
      "text/html": [
       "<div>\n",
       "<style scoped>\n",
       "    .dataframe tbody tr th:only-of-type {\n",
       "        vertical-align: middle;\n",
       "    }\n",
       "\n",
       "    .dataframe tbody tr th {\n",
       "        vertical-align: top;\n",
       "    }\n",
       "\n",
       "    .dataframe thead th {\n",
       "        text-align: right;\n",
       "    }\n",
       "</style>\n",
       "<table border=\"1\" class=\"dataframe\">\n",
       "  <thead>\n",
       "    <tr style=\"text-align: right;\">\n",
       "      <th></th>\n",
       "      <th>사망자수</th>\n",
       "      <th>사상자수</th>\n",
       "    </tr>\n",
       "    <tr>\n",
       "      <th>요일</th>\n",
       "      <th></th>\n",
       "      <th></th>\n",
       "    </tr>\n",
       "  </thead>\n",
       "  <tbody>\n",
       "    <tr>\n",
       "      <th>월</th>\n",
       "      <td>16</td>\n",
       "      <td>22</td>\n",
       "    </tr>\n",
       "    <tr>\n",
       "      <th>화</th>\n",
       "      <td>13</td>\n",
       "      <td>17</td>\n",
       "    </tr>\n",
       "    <tr>\n",
       "      <th>수</th>\n",
       "      <td>19</td>\n",
       "      <td>48</td>\n",
       "    </tr>\n",
       "    <tr>\n",
       "      <th>목</th>\n",
       "      <td>22</td>\n",
       "      <td>33</td>\n",
       "    </tr>\n",
       "    <tr>\n",
       "      <th>금</th>\n",
       "      <td>14</td>\n",
       "      <td>14</td>\n",
       "    </tr>\n",
       "    <tr>\n",
       "      <th>토</th>\n",
       "      <td>28</td>\n",
       "      <td>39</td>\n",
       "    </tr>\n",
       "    <tr>\n",
       "      <th>일</th>\n",
       "      <td>11</td>\n",
       "      <td>15</td>\n",
       "    </tr>\n",
       "  </tbody>\n",
       "</table>\n",
       "</div>"
      ],
      "text/plain": [
       "    사망자수  사상자수\n",
       "요일            \n",
       "월     16    22\n",
       "화     13    17\n",
       "수     19    48\n",
       "목     22    33\n",
       "금     14    14\n",
       "토     28    39\n",
       "일     11    15"
      ]
     },
     "execution_count": 46,
     "metadata": {},
     "output_type": "execute_result"
    }
   ],
   "source": [
    "df[df['발생지시도'] == '부산'][['사망자수','사상자수','요일']].groupby('요일').sum().loc[['월','화','수','목','금','토','일']]"
   ]
  },
  {
   "cell_type": "code",
   "execution_count": null,
   "metadata": {},
   "outputs": [],
   "source": [
    "# 2. 부산 사하구 지역의 교통사고 위치를\n",
    "# 지도로 표시하고 각마커에는 법규위반내용\n",
    "# 을 표시하시요"
   ]
  },
  {
   "cell_type": "code",
   "execution_count": 47,
   "metadata": {},
   "outputs": [
    {
     "data": {
      "text/html": [
       "<div>\n",
       "<style scoped>\n",
       "    .dataframe tbody tr th:only-of-type {\n",
       "        vertical-align: middle;\n",
       "    }\n",
       "\n",
       "    .dataframe tbody tr th {\n",
       "        vertical-align: top;\n",
       "    }\n",
       "\n",
       "    .dataframe thead th {\n",
       "        text-align: right;\n",
       "    }\n",
       "</style>\n",
       "<table border=\"1\" class=\"dataframe\">\n",
       "  <thead>\n",
       "    <tr style=\"text-align: right;\">\n",
       "      <th></th>\n",
       "      <th>위도</th>\n",
       "      <th>경도</th>\n",
       "      <th>법규위반</th>\n",
       "    </tr>\n",
       "    <tr>\n",
       "      <th>발생년</th>\n",
       "      <th></th>\n",
       "      <th></th>\n",
       "      <th></th>\n",
       "    </tr>\n",
       "  </thead>\n",
       "  <tbody>\n",
       "    <tr>\n",
       "      <th>2018</th>\n",
       "      <td>35.092209</td>\n",
       "      <td>128.960255</td>\n",
       "      <td>보행자 보호의무 위반</td>\n",
       "    </tr>\n",
       "    <tr>\n",
       "      <th>2018</th>\n",
       "      <td>35.106171</td>\n",
       "      <td>128.963631</td>\n",
       "      <td>안전거리 미확보</td>\n",
       "    </tr>\n",
       "    <tr>\n",
       "      <th>2018</th>\n",
       "      <td>35.064719</td>\n",
       "      <td>128.979537</td>\n",
       "      <td>신호위반</td>\n",
       "    </tr>\n",
       "  </tbody>\n",
       "</table>\n",
       "</div>"
      ],
      "text/plain": [
       "             위도          경도         법규위반\n",
       "발생년                                     \n",
       "2018  35.092209  128.960255  보행자 보호의무 위반\n",
       "2018  35.106171  128.963631     안전거리 미확보\n",
       "2018  35.064719  128.979537         신호위반"
      ]
     },
     "execution_count": 47,
     "metadata": {},
     "output_type": "execute_result"
    }
   ],
   "source": [
    "Saha = df[(df['발생지시도'] == '부산') & (df['발생지시군구'] == '사하구')][['위도','경도','법규위반']]\n",
    "Saha"
   ]
  },
  {
   "cell_type": "markdown",
   "metadata": {},
   "source": [
    "## (1) Series 인덱싱을 사용해서 map에 표시\n",
    "####  DataFrame을 인덱싱 하면 Series가 된다\n",
    "- sr.loc['']\n",
    "- sr.iloc[ ]\n",
    "- sr['부여된 인덱스']"
   ]
  },
  {
   "cell_type": "code",
   "execution_count": 84,
   "metadata": {},
   "outputs": [
    {
     "name": "stdout",
     "output_type": "stream",
     "text": [
      "35.09220898 128.9602555 보행자 보호의무 위반\n",
      "35.10617056 128.9636314 안전거리 미확보\n",
      "35.06471892 128.9795375 신호위반\n"
     ]
    }
   ],
   "source": [
    "for i,v in Saha.iterrows():\n",
    "    print( v.loc['위도'], v.loc['경도'], v['법규위반'] )\n",
    "#     print(v) # 컬럼    값"
   ]
  },
  {
   "cell_type": "code",
   "execution_count": 87,
   "metadata": {
    "scrolled": false
   },
   "outputs": [
    {
     "name": "stdout",
     "output_type": "stream",
     "text": [
      "35.09220898 128.9602555 보행자 보호의무 위반\n",
      "35.10617056 128.9636314 안전거리 미확보\n",
      "35.06471892 128.9795375 신호위반\n"
     ]
    },
    {
     "data": {
      "text/html": [
       "<div style=\"width:100%;\"><div style=\"position:relative;width:100%;height:0;padding-bottom:60%;\"><span style=\"color:#565656\">Make this Notebook Trusted to load map: File -> Trust Notebook</span><iframe src=\"about:blank\" style=\"position:absolute;width:100%;height:100%;left:0;top:0;border:none !important;\" data-html=%3C%21DOCTYPE%20html%3E%0A%3Chead%3E%20%20%20%20%0A%20%20%20%20%3Cmeta%20http-equiv%3D%22content-type%22%20content%3D%22text/html%3B%20charset%3DUTF-8%22%20/%3E%0A%20%20%20%20%0A%20%20%20%20%20%20%20%20%3Cscript%3E%0A%20%20%20%20%20%20%20%20%20%20%20%20L_NO_TOUCH%20%3D%20false%3B%0A%20%20%20%20%20%20%20%20%20%20%20%20L_DISABLE_3D%20%3D%20false%3B%0A%20%20%20%20%20%20%20%20%3C/script%3E%0A%20%20%20%20%0A%20%20%20%20%3Cscript%20src%3D%22https%3A//cdn.jsdelivr.net/npm/leaflet%401.6.0/dist/leaflet.js%22%3E%3C/script%3E%0A%20%20%20%20%3Cscript%20src%3D%22https%3A//code.jquery.com/jquery-1.12.4.min.js%22%3E%3C/script%3E%0A%20%20%20%20%3Cscript%20src%3D%22https%3A//maxcdn.bootstrapcdn.com/bootstrap/3.2.0/js/bootstrap.min.js%22%3E%3C/script%3E%0A%20%20%20%20%3Cscript%20src%3D%22https%3A//cdnjs.cloudflare.com/ajax/libs/Leaflet.awesome-markers/2.0.2/leaflet.awesome-markers.js%22%3E%3C/script%3E%0A%20%20%20%20%3Clink%20rel%3D%22stylesheet%22%20href%3D%22https%3A//cdn.jsdelivr.net/npm/leaflet%401.6.0/dist/leaflet.css%22/%3E%0A%20%20%20%20%3Clink%20rel%3D%22stylesheet%22%20href%3D%22https%3A//maxcdn.bootstrapcdn.com/bootstrap/3.2.0/css/bootstrap.min.css%22/%3E%0A%20%20%20%20%3Clink%20rel%3D%22stylesheet%22%20href%3D%22https%3A//maxcdn.bootstrapcdn.com/bootstrap/3.2.0/css/bootstrap-theme.min.css%22/%3E%0A%20%20%20%20%3Clink%20rel%3D%22stylesheet%22%20href%3D%22https%3A//maxcdn.bootstrapcdn.com/font-awesome/4.6.3/css/font-awesome.min.css%22/%3E%0A%20%20%20%20%3Clink%20rel%3D%22stylesheet%22%20href%3D%22https%3A//cdnjs.cloudflare.com/ajax/libs/Leaflet.awesome-markers/2.0.2/leaflet.awesome-markers.css%22/%3E%0A%20%20%20%20%3Clink%20rel%3D%22stylesheet%22%20href%3D%22https%3A//rawcdn.githack.com/python-visualization/folium/master/folium/templates/leaflet.awesome.rotate.css%22/%3E%0A%20%20%20%20%3Cstyle%3Ehtml%2C%20body%20%7Bwidth%3A%20100%25%3Bheight%3A%20100%25%3Bmargin%3A%200%3Bpadding%3A%200%3B%7D%3C/style%3E%0A%20%20%20%20%3Cstyle%3E%23map%20%7Bposition%3Aabsolute%3Btop%3A0%3Bbottom%3A0%3Bright%3A0%3Bleft%3A0%3B%7D%3C/style%3E%0A%20%20%20%20%0A%20%20%20%20%20%20%20%20%20%20%20%20%3Cmeta%20name%3D%22viewport%22%20content%3D%22width%3Ddevice-width%2C%0A%20%20%20%20%20%20%20%20%20%20%20%20%20%20%20%20initial-scale%3D1.0%2C%20maximum-scale%3D1.0%2C%20user-scalable%3Dno%22%20/%3E%0A%20%20%20%20%20%20%20%20%20%20%20%20%3Cstyle%3E%0A%20%20%20%20%20%20%20%20%20%20%20%20%20%20%20%20%23map_5fcc0719d36247ffb064b4b2dc39f154%20%7B%0A%20%20%20%20%20%20%20%20%20%20%20%20%20%20%20%20%20%20%20%20position%3A%20relative%3B%0A%20%20%20%20%20%20%20%20%20%20%20%20%20%20%20%20%20%20%20%20width%3A%20100.0%25%3B%0A%20%20%20%20%20%20%20%20%20%20%20%20%20%20%20%20%20%20%20%20height%3A%20100.0%25%3B%0A%20%20%20%20%20%20%20%20%20%20%20%20%20%20%20%20%20%20%20%20left%3A%200.0%25%3B%0A%20%20%20%20%20%20%20%20%20%20%20%20%20%20%20%20%20%20%20%20top%3A%200.0%25%3B%0A%20%20%20%20%20%20%20%20%20%20%20%20%20%20%20%20%7D%0A%20%20%20%20%20%20%20%20%20%20%20%20%3C/style%3E%0A%20%20%20%20%20%20%20%20%0A%3C/head%3E%0A%3Cbody%3E%20%20%20%20%0A%20%20%20%20%0A%20%20%20%20%20%20%20%20%20%20%20%20%3Cdiv%20class%3D%22folium-map%22%20id%3D%22map_5fcc0719d36247ffb064b4b2dc39f154%22%20%3E%3C/div%3E%0A%20%20%20%20%20%20%20%20%0A%3C/body%3E%0A%3Cscript%3E%20%20%20%20%0A%20%20%20%20%0A%20%20%20%20%20%20%20%20%20%20%20%20var%20map_5fcc0719d36247ffb064b4b2dc39f154%20%3D%20L.map%28%0A%20%20%20%20%20%20%20%20%20%20%20%20%20%20%20%20%22map_5fcc0719d36247ffb064b4b2dc39f154%22%2C%0A%20%20%20%20%20%20%20%20%20%20%20%20%20%20%20%20%7B%0A%20%20%20%20%20%20%20%20%20%20%20%20%20%20%20%20%20%20%20%20center%3A%20%5B35.08769948666667%2C%20128.9678081333333%5D%2C%0A%20%20%20%20%20%20%20%20%20%20%20%20%20%20%20%20%20%20%20%20crs%3A%20L.CRS.EPSG3857%2C%0A%20%20%20%20%20%20%20%20%20%20%20%20%20%20%20%20%20%20%20%20zoom%3A%2013%2C%0A%20%20%20%20%20%20%20%20%20%20%20%20%20%20%20%20%20%20%20%20zoomControl%3A%20true%2C%0A%20%20%20%20%20%20%20%20%20%20%20%20%20%20%20%20%20%20%20%20preferCanvas%3A%20false%2C%0A%20%20%20%20%20%20%20%20%20%20%20%20%20%20%20%20%7D%0A%20%20%20%20%20%20%20%20%20%20%20%20%29%3B%0A%0A%20%20%20%20%20%20%20%20%20%20%20%20%0A%0A%20%20%20%20%20%20%20%20%0A%20%20%20%20%0A%20%20%20%20%20%20%20%20%20%20%20%20var%20tile_layer_3982267efeb44dcda208df1860ce523b%20%3D%20L.tileLayer%28%0A%20%20%20%20%20%20%20%20%20%20%20%20%20%20%20%20%22https%3A//%7Bs%7D.tile.openstreetmap.org/%7Bz%7D/%7Bx%7D/%7By%7D.png%22%2C%0A%20%20%20%20%20%20%20%20%20%20%20%20%20%20%20%20%7B%22attribution%22%3A%20%22Data%20by%20%5Cu0026copy%3B%20%5Cu003ca%20href%3D%5C%22http%3A//openstreetmap.org%5C%22%5Cu003eOpenStreetMap%5Cu003c/a%5Cu003e%2C%20under%20%5Cu003ca%20href%3D%5C%22http%3A//www.openstreetmap.org/copyright%5C%22%5Cu003eODbL%5Cu003c/a%5Cu003e.%22%2C%20%22detectRetina%22%3A%20false%2C%20%22maxNativeZoom%22%3A%2018%2C%20%22maxZoom%22%3A%2018%2C%20%22minZoom%22%3A%200%2C%20%22noWrap%22%3A%20false%2C%20%22opacity%22%3A%201%2C%20%22subdomains%22%3A%20%22abc%22%2C%20%22tms%22%3A%20false%7D%0A%20%20%20%20%20%20%20%20%20%20%20%20%29.addTo%28map_5fcc0719d36247ffb064b4b2dc39f154%29%3B%0A%20%20%20%20%20%20%20%20%0A%20%20%20%20%0A%20%20%20%20%20%20%20%20%20%20%20%20var%20marker_6e5dcee7d1b24fac8d4fc5e0374d46d3%20%3D%20L.marker%28%0A%20%20%20%20%20%20%20%20%20%20%20%20%20%20%20%20%5B35.09220898%2C%20128.9602555%5D%2C%0A%20%20%20%20%20%20%20%20%20%20%20%20%20%20%20%20%7B%7D%0A%20%20%20%20%20%20%20%20%20%20%20%20%29.addTo%28map_5fcc0719d36247ffb064b4b2dc39f154%29%3B%0A%20%20%20%20%20%20%20%20%0A%20%20%20%20%0A%20%20%20%20%20%20%20%20var%20popup_0dec360c0823468aac849616d0dfc666%20%3D%20L.popup%28%7B%22maxWidth%22%3A%20%22100%25%22%7D%29%3B%0A%0A%20%20%20%20%20%20%20%20%0A%20%20%20%20%20%20%20%20%20%20%20%20var%20html_7e9b927d96304e099ccb9c748c16d100%20%3D%20%24%28%60%3Cdiv%20id%3D%22html_7e9b927d96304e099ccb9c748c16d100%22%20style%3D%22width%3A%20100.0%25%3B%20height%3A%20100.0%25%3B%22%3E%EB%B3%B4%ED%96%89%EC%9E%90%20%EB%B3%B4%ED%98%B8%EC%9D%98%EB%AC%B4%20%EC%9C%84%EB%B0%98%3C/div%3E%60%29%5B0%5D%3B%0A%20%20%20%20%20%20%20%20%20%20%20%20popup_0dec360c0823468aac849616d0dfc666.setContent%28html_7e9b927d96304e099ccb9c748c16d100%29%3B%0A%20%20%20%20%20%20%20%20%0A%0A%20%20%20%20%20%20%20%20marker_6e5dcee7d1b24fac8d4fc5e0374d46d3.bindPopup%28popup_0dec360c0823468aac849616d0dfc666%29%0A%20%20%20%20%20%20%20%20%3B%0A%0A%20%20%20%20%20%20%20%20%0A%20%20%20%20%0A%20%20%20%20%0A%20%20%20%20%20%20%20%20%20%20%20%20var%20marker_5c406f7ff1dd41c7b62ab78ea0da90a0%20%3D%20L.marker%28%0A%20%20%20%20%20%20%20%20%20%20%20%20%20%20%20%20%5B35.10617056%2C%20128.9636314%5D%2C%0A%20%20%20%20%20%20%20%20%20%20%20%20%20%20%20%20%7B%7D%0A%20%20%20%20%20%20%20%20%20%20%20%20%29.addTo%28map_5fcc0719d36247ffb064b4b2dc39f154%29%3B%0A%20%20%20%20%20%20%20%20%0A%20%20%20%20%0A%20%20%20%20%20%20%20%20var%20popup_9b31b67ebdb94a5683bf896caa90f3c4%20%3D%20L.popup%28%7B%22maxWidth%22%3A%20%22100%25%22%7D%29%3B%0A%0A%20%20%20%20%20%20%20%20%0A%20%20%20%20%20%20%20%20%20%20%20%20var%20html_840c87190fd64a0e82b673a3592136ac%20%3D%20%24%28%60%3Cdiv%20id%3D%22html_840c87190fd64a0e82b673a3592136ac%22%20style%3D%22width%3A%20100.0%25%3B%20height%3A%20100.0%25%3B%22%3E%EC%95%88%EC%A0%84%EA%B1%B0%EB%A6%AC%20%EB%AF%B8%ED%99%95%EB%B3%B4%3C/div%3E%60%29%5B0%5D%3B%0A%20%20%20%20%20%20%20%20%20%20%20%20popup_9b31b67ebdb94a5683bf896caa90f3c4.setContent%28html_840c87190fd64a0e82b673a3592136ac%29%3B%0A%20%20%20%20%20%20%20%20%0A%0A%20%20%20%20%20%20%20%20marker_5c406f7ff1dd41c7b62ab78ea0da90a0.bindPopup%28popup_9b31b67ebdb94a5683bf896caa90f3c4%29%0A%20%20%20%20%20%20%20%20%3B%0A%0A%20%20%20%20%20%20%20%20%0A%20%20%20%20%0A%20%20%20%20%0A%20%20%20%20%20%20%20%20%20%20%20%20var%20marker_c3953f754e9f4c58944f77be60840d1b%20%3D%20L.marker%28%0A%20%20%20%20%20%20%20%20%20%20%20%20%20%20%20%20%5B35.06471892%2C%20128.9795375%5D%2C%0A%20%20%20%20%20%20%20%20%20%20%20%20%20%20%20%20%7B%7D%0A%20%20%20%20%20%20%20%20%20%20%20%20%29.addTo%28map_5fcc0719d36247ffb064b4b2dc39f154%29%3B%0A%20%20%20%20%20%20%20%20%0A%20%20%20%20%0A%20%20%20%20%20%20%20%20var%20popup_7cb495b144e740bebb827f80d9fae9c6%20%3D%20L.popup%28%7B%22maxWidth%22%3A%20%22100%25%22%7D%29%3B%0A%0A%20%20%20%20%20%20%20%20%0A%20%20%20%20%20%20%20%20%20%20%20%20var%20html_6b4243eac6c84977930d0759e5110ccb%20%3D%20%24%28%60%3Cdiv%20id%3D%22html_6b4243eac6c84977930d0759e5110ccb%22%20style%3D%22width%3A%20100.0%25%3B%20height%3A%20100.0%25%3B%22%3E%EC%8B%A0%ED%98%B8%EC%9C%84%EB%B0%98%3C/div%3E%60%29%5B0%5D%3B%0A%20%20%20%20%20%20%20%20%20%20%20%20popup_7cb495b144e740bebb827f80d9fae9c6.setContent%28html_6b4243eac6c84977930d0759e5110ccb%29%3B%0A%20%20%20%20%20%20%20%20%0A%0A%20%20%20%20%20%20%20%20marker_c3953f754e9f4c58944f77be60840d1b.bindPopup%28popup_7cb495b144e740bebb827f80d9fae9c6%29%0A%20%20%20%20%20%20%20%20%3B%0A%0A%20%20%20%20%20%20%20%20%0A%20%20%20%20%0A%3C/script%3E onload=\"this.contentDocument.open();this.contentDocument.write(    decodeURIComponent(this.getAttribute('data-html')));this.contentDocument.close();\" allowfullscreen webkitallowfullscreen mozallowfullscreen></iframe></div></div>"
      ],
      "text/plain": [
       "<folium.folium.Map at 0x1b340e41708>"
      ]
     },
     "execution_count": 87,
     "metadata": {},
     "output_type": "execute_result"
    }
   ],
   "source": [
    "Saha = df[(df['발생지시도'] == '부산') & (df['발생지시군구'] == '사하구')]\n",
    "map = folium.Ma( location=( Saha['위도'].mean(), Saha['경도'].mean() ),\n",
    "                    zoom_start=13)\n",
    "\n",
    "for i,v in Saha.iterrows():\n",
    "    print( v.loc['위도'], v.loc['경도'], v['법규위반'] )\n",
    "    mk = folium.Marker( location=(v.loc['위도'], v.loc['경도']) ,popup = f\"{v['법규위반']}\"  )         \n",
    "    mk.add_to(map)\n",
    "                       \n",
    "map"
   ]
  },
  {
   "cell_type": "markdown",
   "metadata": {},
   "source": [
    "## (2) DataFrame을 컬럼 인덱스 후 표시"
   ]
  },
  {
   "cell_type": "code",
   "execution_count": 110,
   "metadata": {
    "scrolled": true
   },
   "outputs": [
    {
     "data": {
      "text/html": [
       "<div style=\"width:100%;\"><div style=\"position:relative;width:100%;height:0;padding-bottom:60%;\"><span style=\"color:#565656\">Make this Notebook Trusted to load map: File -> Trust Notebook</span><iframe src=\"about:blank\" style=\"position:absolute;width:100%;height:100%;left:0;top:0;border:none !important;\" data-html=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 onload=\"this.contentDocument.open();this.contentDocument.write(atob(this.getAttribute('data-html')));this.contentDocument.close();\" allowfullscreen webkitallowfullscreen mozallowfullscreen></iframe></div></div>"
      ],
      "text/plain": [
       "<folium.folium.Map at 0x1cbe4f9a070>"
      ]
     },
     "execution_count": 110,
     "metadata": {},
     "output_type": "execute_result"
    }
   ],
   "source": [
    "# 2. 부산 사하구 지역의 교통사고 위치를 지도로 표시하고 각마커에는 법규위반내용을 표시하시요\n",
    "Saha = df[(df['발생지시도'] == '부산') & (df['발생지시군구'] == '사하구')]\n",
    "\n",
    "map = folium.Map(  location=( Saha['위도'].mean(), Saha['경도'].mean() ),\n",
    "                   zoom_start=13               \n",
    "                  )\n",
    "for lat,long, vio in zip( Saha['위도'], Saha['경도'], Saha['법규위반'] ):\n",
    "    mk = folium.Marker( location=(lat, long), popup = f'{vio}' )         \n",
    "    mk.add_to(map)\n",
    "\n",
    "# map.save('car_acc.html')\n",
    "map"
   ]
  },
  {
   "cell_type": "code",
   "execution_count": 81,
   "metadata": {},
   "outputs": [
    {
     "data": {
      "text/plain": [
       "사망자수    123\n",
       "dtype: int64"
      ]
     },
     "execution_count": 81,
     "metadata": {},
     "output_type": "execute_result"
    }
   ],
   "source": [
    "# 3. 부산에서 발생한 총 사망자수를 구하시요\n",
    "\n",
    "df[df['발생지시도'] == '부산'][['사망자수']].sum()"
   ]
  },
  {
   "cell_type": "code",
   "execution_count": 92,
   "metadata": {},
   "outputs": [
    {
     "data": {
      "text/plain": [
       "123"
      ]
     },
     "execution_count": 92,
     "metadata": {},
     "output_type": "execute_result"
    }
   ],
   "source": [
    "df[df['발생지시도'] == '부산']['사망자수'].sum()"
   ]
  },
  {
   "cell_type": "code",
   "execution_count": 82,
   "metadata": {},
   "outputs": [
    {
     "data": {
      "text/html": [
       "<div>\n",
       "<style scoped>\n",
       "    .dataframe tbody tr th:only-of-type {\n",
       "        vertical-align: middle;\n",
       "    }\n",
       "\n",
       "    .dataframe tbody tr th {\n",
       "        vertical-align: top;\n",
       "    }\n",
       "\n",
       "    .dataframe thead th {\n",
       "        text-align: right;\n",
       "    }\n",
       "</style>\n",
       "<table border=\"1\" class=\"dataframe\">\n",
       "  <thead>\n",
       "    <tr style=\"text-align: right;\">\n",
       "      <th></th>\n",
       "      <th>사상자수</th>\n",
       "      <th>사고유형</th>\n",
       "      <th>법규위반</th>\n",
       "    </tr>\n",
       "    <tr>\n",
       "      <th>발생년</th>\n",
       "      <th></th>\n",
       "      <th></th>\n",
       "      <th></th>\n",
       "    </tr>\n",
       "  </thead>\n",
       "  <tbody>\n",
       "    <tr>\n",
       "      <th>2018</th>\n",
       "      <td>1</td>\n",
       "      <td>횡단중</td>\n",
       "      <td>안전운전 의무 불이행</td>\n",
       "    </tr>\n",
       "    <tr>\n",
       "      <th>2018</th>\n",
       "      <td>1</td>\n",
       "      <td>횡단중</td>\n",
       "      <td>안전운전 의무 불이행</td>\n",
       "    </tr>\n",
       "    <tr>\n",
       "      <th>2018</th>\n",
       "      <td>1</td>\n",
       "      <td>기타</td>\n",
       "      <td>안전운전 의무 불이행</td>\n",
       "    </tr>\n",
       "    <tr>\n",
       "      <th>2018</th>\n",
       "      <td>1</td>\n",
       "      <td>측면충돌</td>\n",
       "      <td>신호위반</td>\n",
       "    </tr>\n",
       "    <tr>\n",
       "      <th>2018</th>\n",
       "      <td>1</td>\n",
       "      <td>측면충돌</td>\n",
       "      <td>안전거리 미확보</td>\n",
       "    </tr>\n",
       "    <tr>\n",
       "      <th>2018</th>\n",
       "      <td>1</td>\n",
       "      <td>차도통행중</td>\n",
       "      <td>과속</td>\n",
       "    </tr>\n",
       "    <tr>\n",
       "      <th>2018</th>\n",
       "      <td>3</td>\n",
       "      <td>측면충돌</td>\n",
       "      <td>중앙선 침범</td>\n",
       "    </tr>\n",
       "    <tr>\n",
       "      <th>2018</th>\n",
       "      <td>1</td>\n",
       "      <td>횡단중</td>\n",
       "      <td>과속</td>\n",
       "    </tr>\n",
       "    <tr>\n",
       "      <th>2018</th>\n",
       "      <td>2</td>\n",
       "      <td>공작물충돌</td>\n",
       "      <td>안전운전 의무 불이행</td>\n",
       "    </tr>\n",
       "    <tr>\n",
       "      <th>2018</th>\n",
       "      <td>1</td>\n",
       "      <td>횡단중</td>\n",
       "      <td>과속</td>\n",
       "    </tr>\n",
       "    <tr>\n",
       "      <th>2018</th>\n",
       "      <td>1</td>\n",
       "      <td>기타</td>\n",
       "      <td>과속</td>\n",
       "    </tr>\n",
       "    <tr>\n",
       "      <th>2018</th>\n",
       "      <td>1</td>\n",
       "      <td>횡단중</td>\n",
       "      <td>안전운전 의무 불이행</td>\n",
       "    </tr>\n",
       "    <tr>\n",
       "      <th>2018</th>\n",
       "      <td>1</td>\n",
       "      <td>공작물충돌</td>\n",
       "      <td>안전운전 의무 불이행</td>\n",
       "    </tr>\n",
       "    <tr>\n",
       "      <th>2018</th>\n",
       "      <td>1</td>\n",
       "      <td>측면충돌</td>\n",
       "      <td>신호위반</td>\n",
       "    </tr>\n",
       "    <tr>\n",
       "      <th>2018</th>\n",
       "      <td>5</td>\n",
       "      <td>공작물충돌</td>\n",
       "      <td>과속</td>\n",
       "    </tr>\n",
       "  </tbody>\n",
       "</table>\n",
       "</div>"
      ],
      "text/plain": [
       "      사상자수   사고유형         법규위반\n",
       "발생년                           \n",
       "2018     1    횡단중  안전운전 의무 불이행\n",
       "2018     1    횡단중  안전운전 의무 불이행\n",
       "2018     1     기타  안전운전 의무 불이행\n",
       "2018     1   측면충돌         신호위반\n",
       "2018     1   측면충돌     안전거리 미확보\n",
       "2018     1  차도통행중           과속\n",
       "2018     3   측면충돌       중앙선 침범\n",
       "2018     1    횡단중           과속\n",
       "2018     2  공작물충돌  안전운전 의무 불이행\n",
       "2018     1    횡단중           과속\n",
       "2018     1     기타           과속\n",
       "2018     1    횡단중  안전운전 의무 불이행\n",
       "2018     1  공작물충돌  안전운전 의무 불이행\n",
       "2018     1   측면충돌         신호위반\n",
       "2018     5  공작물충돌           과속"
      ]
     },
     "execution_count": 82,
     "metadata": {},
     "output_type": "execute_result"
    }
   ],
   "source": [
    "# 4. 부산지역 월요일에 발생한 사상자수,사고유형,법규위반을 구하시요\n",
    "df[(df['발생지시도'] == '부산') & (df['요일'] == '월')][['사상자수','사고유형','법규위반']]"
   ]
  },
  {
   "cell_type": "code",
   "execution_count": 75,
   "metadata": {},
   "outputs": [
    {
     "data": {
      "text/html": [
       "<div>\n",
       "<style scoped>\n",
       "    .dataframe tbody tr th:only-of-type {\n",
       "        vertical-align: middle;\n",
       "    }\n",
       "\n",
       "    .dataframe tbody tr th {\n",
       "        vertical-align: top;\n",
       "    }\n",
       "\n",
       "    .dataframe thead th {\n",
       "        text-align: right;\n",
       "    }\n",
       "</style>\n",
       "<table border=\"1\" class=\"dataframe\">\n",
       "  <thead>\n",
       "    <tr style=\"text-align: right;\">\n",
       "      <th></th>\n",
       "      <th>요일</th>\n",
       "      <th>발생지시도</th>\n",
       "      <th>법규위반</th>\n",
       "      <th>피해자_당사자종별</th>\n",
       "    </tr>\n",
       "    <tr>\n",
       "      <th>발생년</th>\n",
       "      <th></th>\n",
       "      <th></th>\n",
       "      <th></th>\n",
       "      <th></th>\n",
       "    </tr>\n",
       "  </thead>\n",
       "  <tbody>\n",
       "    <tr>\n",
       "      <th>2018</th>\n",
       "      <td>수</td>\n",
       "      <td>서울</td>\n",
       "      <td>안전운전 의무 불이행</td>\n",
       "      <td>보행자</td>\n",
       "    </tr>\n",
       "    <tr>\n",
       "      <th>2018</th>\n",
       "      <td>일</td>\n",
       "      <td>서울</td>\n",
       "      <td>안전운전 의무 불이행</td>\n",
       "      <td>보행자</td>\n",
       "    </tr>\n",
       "    <tr>\n",
       "      <th>2018</th>\n",
       "      <td>일</td>\n",
       "      <td>서울</td>\n",
       "      <td>안전운전 의무 불이행</td>\n",
       "      <td>보행자</td>\n",
       "    </tr>\n",
       "    <tr>\n",
       "      <th>2018</th>\n",
       "      <td>월</td>\n",
       "      <td>서울</td>\n",
       "      <td>신호위반</td>\n",
       "      <td>보행자</td>\n",
       "    </tr>\n",
       "    <tr>\n",
       "      <th>2018</th>\n",
       "      <td>금</td>\n",
       "      <td>서울</td>\n",
       "      <td>과속</td>\n",
       "      <td>보행자</td>\n",
       "    </tr>\n",
       "    <tr>\n",
       "      <th>...</th>\n",
       "      <td>...</td>\n",
       "      <td>...</td>\n",
       "      <td>...</td>\n",
       "      <td>...</td>\n",
       "    </tr>\n",
       "    <tr>\n",
       "      <th>2018</th>\n",
       "      <td>목</td>\n",
       "      <td>경기</td>\n",
       "      <td>보행자 보호의무 위반</td>\n",
       "      <td>보행자</td>\n",
       "    </tr>\n",
       "    <tr>\n",
       "      <th>2018</th>\n",
       "      <td>금</td>\n",
       "      <td>경기</td>\n",
       "      <td>신호위반</td>\n",
       "      <td>보행자</td>\n",
       "    </tr>\n",
       "    <tr>\n",
       "      <th>2018</th>\n",
       "      <td>토</td>\n",
       "      <td>경기</td>\n",
       "      <td>안전운전 의무 불이행</td>\n",
       "      <td>보행자</td>\n",
       "    </tr>\n",
       "    <tr>\n",
       "      <th>2018</th>\n",
       "      <td>화</td>\n",
       "      <td>경기</td>\n",
       "      <td>안전운전 의무 불이행</td>\n",
       "      <td>보행자</td>\n",
       "    </tr>\n",
       "    <tr>\n",
       "      <th>2018</th>\n",
       "      <td>월</td>\n",
       "      <td>경기</td>\n",
       "      <td>안전운전 의무 불이행</td>\n",
       "      <td>보행자</td>\n",
       "    </tr>\n",
       "  </tbody>\n",
       "</table>\n",
       "<p>791 rows × 4 columns</p>\n",
       "</div>"
      ],
      "text/plain": [
       "     요일 발생지시도         법규위반 피해자_당사자종별\n",
       "발생년                                 \n",
       "2018  수    서울  안전운전 의무 불이행       보행자\n",
       "2018  일    서울  안전운전 의무 불이행       보행자\n",
       "2018  일    서울  안전운전 의무 불이행       보행자\n",
       "2018  월    서울         신호위반       보행자\n",
       "2018  금    서울           과속       보행자\n",
       "...  ..   ...          ...       ...\n",
       "2018  목    경기  보행자 보호의무 위반       보행자\n",
       "2018  금    경기         신호위반       보행자\n",
       "2018  토    경기  안전운전 의무 불이행       보행자\n",
       "2018  화    경기  안전운전 의무 불이행       보행자\n",
       "2018  월    경기  안전운전 의무 불이행       보행자\n",
       "\n",
       "[791 rows x 4 columns]"
      ]
     },
     "execution_count": 75,
     "metadata": {},
     "output_type": "execute_result"
    }
   ],
   "source": [
    "# 5. 전체 지역에서 횡단중 일어난 사고의 요일 발생지시도, 법규위반, 피해자_당사자종별을 구하시요\n",
    "crossdf = df[df['사고유형']=='횡단중']\n",
    "crossdf[['요일','발생지시도','법규위반','피해자_당사자종별']]"
   ]
  },
  {
   "cell_type": "code",
   "execution_count": 146,
   "metadata": {},
   "outputs": [
    {
     "data": {
      "text/html": [
       "<div>\n",
       "<style scoped>\n",
       "    .dataframe tbody tr th:only-of-type {\n",
       "        vertical-align: middle;\n",
       "    }\n",
       "\n",
       "    .dataframe tbody tr th {\n",
       "        vertical-align: top;\n",
       "    }\n",
       "\n",
       "    .dataframe thead th {\n",
       "        text-align: right;\n",
       "    }\n",
       "</style>\n",
       "<table border=\"1\" class=\"dataframe\">\n",
       "  <thead>\n",
       "    <tr style=\"text-align: right;\">\n",
       "      <th></th>\n",
       "      <th></th>\n",
       "      <th></th>\n",
       "      <th>경도</th>\n",
       "      <th>경상자수</th>\n",
       "      <th>발생년월일시</th>\n",
       "      <th>발생분</th>\n",
       "      <th>발생위치X_UTMK</th>\n",
       "      <th>발생위치Y_UTMK</th>\n",
       "      <th>부상신고자수</th>\n",
       "      <th>사망자수</th>\n",
       "      <th>사상자수</th>\n",
       "      <th>위도</th>\n",
       "      <th>중상자수</th>\n",
       "    </tr>\n",
       "    <tr>\n",
       "      <th>발생지시도</th>\n",
       "      <th>법규위반</th>\n",
       "      <th>피해자_당사자종별</th>\n",
       "      <th></th>\n",
       "      <th></th>\n",
       "      <th></th>\n",
       "      <th></th>\n",
       "      <th></th>\n",
       "      <th></th>\n",
       "      <th></th>\n",
       "      <th></th>\n",
       "      <th></th>\n",
       "      <th></th>\n",
       "      <th></th>\n",
       "    </tr>\n",
       "  </thead>\n",
       "  <tbody>\n",
       "    <tr>\n",
       "      <th rowspan=\"4\" valign=\"top\">강원</th>\n",
       "      <th>과속</th>\n",
       "      <th>보행자</th>\n",
       "      <td>128.595435</td>\n",
       "      <td>0.250000</td>\n",
       "      <td>2.018036e+09</td>\n",
       "      <td>26.500000</td>\n",
       "      <td>1.096895e+06</td>\n",
       "      <td>1.941204e+06</td>\n",
       "      <td>0.0</td>\n",
       "      <td>1.0</td>\n",
       "      <td>1.250000</td>\n",
       "      <td>37.464301</td>\n",
       "      <td>0.0</td>\n",
       "    </tr>\n",
       "    <tr>\n",
       "      <th>보행자 보호의무 위반</th>\n",
       "      <th>보행자</th>\n",
       "      <td>128.205232</td>\n",
       "      <td>0.000000</td>\n",
       "      <td>2.018056e+09</td>\n",
       "      <td>32.500000</td>\n",
       "      <td>1.061900e+06</td>\n",
       "      <td>1.975802e+06</td>\n",
       "      <td>0.0</td>\n",
       "      <td>1.5</td>\n",
       "      <td>1.500000</td>\n",
       "      <td>37.779202</td>\n",
       "      <td>0.0</td>\n",
       "    </tr>\n",
       "    <tr>\n",
       "      <th>신호위반</th>\n",
       "      <th>보행자</th>\n",
       "      <td>128.914197</td>\n",
       "      <td>0.000000</td>\n",
       "      <td>2.018042e+09</td>\n",
       "      <td>25.000000</td>\n",
       "      <td>1.124563e+06</td>\n",
       "      <td>1.974730e+06</td>\n",
       "      <td>0.0</td>\n",
       "      <td>1.0</td>\n",
       "      <td>1.000000</td>\n",
       "      <td>37.763755</td>\n",
       "      <td>0.0</td>\n",
       "    </tr>\n",
       "    <tr>\n",
       "      <th>안전운전 의무 불이행</th>\n",
       "      <th>보행자</th>\n",
       "      <td>128.383547</td>\n",
       "      <td>0.050000</td>\n",
       "      <td>2.018078e+09</td>\n",
       "      <td>27.050000</td>\n",
       "      <td>1.077836e+06</td>\n",
       "      <td>1.975895e+06</td>\n",
       "      <td>0.0</td>\n",
       "      <td>1.0</td>\n",
       "      <td>1.150000</td>\n",
       "      <td>37.778375</td>\n",
       "      <td>0.1</td>\n",
       "    </tr>\n",
       "    <tr>\n",
       "      <th>경기</th>\n",
       "      <th>과속</th>\n",
       "      <th>보행자</th>\n",
       "      <td>127.009786</td>\n",
       "      <td>0.111111</td>\n",
       "      <td>2.018075e+09</td>\n",
       "      <td>30.388889</td>\n",
       "      <td>9.565819e+05</td>\n",
       "      <td>1.925680e+06</td>\n",
       "      <td>0.0</td>\n",
       "      <td>1.0</td>\n",
       "      <td>1.111111</td>\n",
       "      <td>37.328942</td>\n",
       "      <td>0.0</td>\n",
       "    </tr>\n",
       "    <tr>\n",
       "      <th>...</th>\n",
       "      <th>...</th>\n",
       "      <th>...</th>\n",
       "      <td>...</td>\n",
       "      <td>...</td>\n",
       "      <td>...</td>\n",
       "      <td>...</td>\n",
       "      <td>...</td>\n",
       "      <td>...</td>\n",
       "      <td>...</td>\n",
       "      <td>...</td>\n",
       "      <td>...</td>\n",
       "      <td>...</td>\n",
       "      <td>...</td>\n",
       "    </tr>\n",
       "    <tr>\n",
       "      <th rowspan=\"5\" valign=\"top\">충북</th>\n",
       "      <th>과속</th>\n",
       "      <th>보행자</th>\n",
       "      <td>127.552675</td>\n",
       "      <td>0.400000</td>\n",
       "      <td>2.018058e+09</td>\n",
       "      <td>9.800000</td>\n",
       "      <td>1.004680e+06</td>\n",
       "      <td>1.868743e+06</td>\n",
       "      <td>0.0</td>\n",
       "      <td>1.0</td>\n",
       "      <td>1.400000</td>\n",
       "      <td>36.816775</td>\n",
       "      <td>0.0</td>\n",
       "    </tr>\n",
       "    <tr>\n",
       "      <th>보행자 보호의무 위반</th>\n",
       "      <th>보행자</th>\n",
       "      <td>128.369068</td>\n",
       "      <td>0.000000</td>\n",
       "      <td>2.018033e+09</td>\n",
       "      <td>50.000000</td>\n",
       "      <td>1.077344e+06</td>\n",
       "      <td>1.887557e+06</td>\n",
       "      <td>0.0</td>\n",
       "      <td>1.0</td>\n",
       "      <td>1.000000</td>\n",
       "      <td>36.983294</td>\n",
       "      <td>0.0</td>\n",
       "    </tr>\n",
       "    <tr>\n",
       "      <th>신호위반</th>\n",
       "      <th>보행자</th>\n",
       "      <td>128.053131</td>\n",
       "      <td>0.000000</td>\n",
       "      <td>2.018077e+09</td>\n",
       "      <td>38.000000</td>\n",
       "      <td>1.049182e+06</td>\n",
       "      <td>1.893208e+06</td>\n",
       "      <td>0.0</td>\n",
       "      <td>1.0</td>\n",
       "      <td>1.000000</td>\n",
       "      <td>37.036032</td>\n",
       "      <td>0.0</td>\n",
       "    </tr>\n",
       "    <tr>\n",
       "      <th>안전운전 의무 불이행</th>\n",
       "      <th>보행자</th>\n",
       "      <td>127.518027</td>\n",
       "      <td>0.043478</td>\n",
       "      <td>2.018068e+09</td>\n",
       "      <td>19.869565</td>\n",
       "      <td>1.001602e+06</td>\n",
       "      <td>1.850234e+06</td>\n",
       "      <td>0.0</td>\n",
       "      <td>1.0</td>\n",
       "      <td>1.043478</td>\n",
       "      <td>36.649952</td>\n",
       "      <td>0.0</td>\n",
       "    </tr>\n",
       "    <tr>\n",
       "      <th>중앙선 침범</th>\n",
       "      <th>보행자</th>\n",
       "      <td>127.480678</td>\n",
       "      <td>0.000000</td>\n",
       "      <td>2.018101e+09</td>\n",
       "      <td>10.000000</td>\n",
       "      <td>9.982740e+05</td>\n",
       "      <td>1.855517e+06</td>\n",
       "      <td>0.0</td>\n",
       "      <td>1.0</td>\n",
       "      <td>1.000000</td>\n",
       "      <td>36.697644</td>\n",
       "      <td>0.0</td>\n",
       "    </tr>\n",
       "  </tbody>\n",
       "</table>\n",
       "<p>75 rows × 11 columns</p>\n",
       "</div>"
      ],
      "text/plain": [
       "                                     경도      경상자수        발생년월일시        발생분  \\\n",
       "발생지시도 법규위반        피해자_당사자종별                                                  \n",
       "강원    과속          보행자        128.595435  0.250000  2.018036e+09  26.500000   \n",
       "      보행자 보호의무 위반 보행자        128.205232  0.000000  2.018056e+09  32.500000   \n",
       "      신호위반        보행자        128.914197  0.000000  2.018042e+09  25.000000   \n",
       "      안전운전 의무 불이행 보행자        128.383547  0.050000  2.018078e+09  27.050000   \n",
       "경기    과속          보행자        127.009786  0.111111  2.018075e+09  30.388889   \n",
       "...                                 ...       ...           ...        ...   \n",
       "충북    과속          보행자        127.552675  0.400000  2.018058e+09   9.800000   \n",
       "      보행자 보호의무 위반 보행자        128.369068  0.000000  2.018033e+09  50.000000   \n",
       "      신호위반        보행자        128.053131  0.000000  2.018077e+09  38.000000   \n",
       "      안전운전 의무 불이행 보행자        127.518027  0.043478  2.018068e+09  19.869565   \n",
       "      중앙선 침범      보행자        127.480678  0.000000  2.018101e+09  10.000000   \n",
       "\n",
       "                               발생위치X_UTMK    발생위치Y_UTMK  부상신고자수  사망자수  \\\n",
       "발생지시도 법규위반        피해자_당사자종별                                             \n",
       "강원    과속          보행자        1.096895e+06  1.941204e+06     0.0   1.0   \n",
       "      보행자 보호의무 위반 보행자        1.061900e+06  1.975802e+06     0.0   1.5   \n",
       "      신호위반        보행자        1.124563e+06  1.974730e+06     0.0   1.0   \n",
       "      안전운전 의무 불이행 보행자        1.077836e+06  1.975895e+06     0.0   1.0   \n",
       "경기    과속          보행자        9.565819e+05  1.925680e+06     0.0   1.0   \n",
       "...                                   ...           ...     ...   ...   \n",
       "충북    과속          보행자        1.004680e+06  1.868743e+06     0.0   1.0   \n",
       "      보행자 보호의무 위반 보행자        1.077344e+06  1.887557e+06     0.0   1.0   \n",
       "      신호위반        보행자        1.049182e+06  1.893208e+06     0.0   1.0   \n",
       "      안전운전 의무 불이행 보행자        1.001602e+06  1.850234e+06     0.0   1.0   \n",
       "      중앙선 침범      보행자        9.982740e+05  1.855517e+06     0.0   1.0   \n",
       "\n",
       "                                 사상자수         위도  중상자수  \n",
       "발생지시도 법규위반        피해자_당사자종별                             \n",
       "강원    과속          보행자        1.250000  37.464301   0.0  \n",
       "      보행자 보호의무 위반 보행자        1.500000  37.779202   0.0  \n",
       "      신호위반        보행자        1.000000  37.763755   0.0  \n",
       "      안전운전 의무 불이행 보행자        1.150000  37.778375   0.1  \n",
       "경기    과속          보행자        1.111111  37.328942   0.0  \n",
       "...                               ...        ...   ...  \n",
       "충북    과속          보행자        1.400000  36.816775   0.0  \n",
       "      보행자 보호의무 위반 보행자        1.000000  36.983294   0.0  \n",
       "      신호위반        보행자        1.000000  37.036032   0.0  \n",
       "      안전운전 의무 불이행 보행자        1.043478  36.649952   0.0  \n",
       "      중앙선 침범      보행자        1.000000  36.697644   0.0  \n",
       "\n",
       "[75 rows x 11 columns]"
      ]
     },
     "execution_count": 146,
     "metadata": {},
     "output_type": "execute_result"
    }
   ],
   "source": [
    "# 발생지시도, 법규위반, 피해자_당사자종별을 구하시요\n",
    "crossdf = df[df['사고유형']=='횡단중']\n",
    "crossdf.pivot_table( index=['발생지시도','법규위반','피해자_당사자종별'])"
   ]
  }
 ],
 "metadata": {
  "kernelspec": {
   "display_name": "Python 3",
   "language": "python",
   "name": "python3"
  },
  "language_info": {
   "codemirror_mode": {
    "name": "ipython",
    "version": 3
   },
   "file_extension": ".py",
   "mimetype": "text/x-python",
   "name": "python",
   "nbconvert_exporter": "python",
   "pygments_lexer": "ipython3",
   "version": "3.7.6"
  }
 },
 "nbformat": 4,
 "nbformat_minor": 4
}
