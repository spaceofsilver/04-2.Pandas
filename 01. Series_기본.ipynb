{
 "cells": [
  {
   "cell_type": "markdown",
   "metadata": {},
   "source": [
    "**판다스의 핵심**\n",
    "- Series( 1차원 데이터 )\n",
    "    - 인덱스와 데이터, 타입정보가 나온다\n",
    "    - 시리즈를 이해해야 데이터 프레임을 이해할 수 있다.\n",
    "    - numpy의 업그레이드 버전\n",
    "    - https://pandas.pydata.org/pandas-docs/stable/reference/api/pandas.Series.html\n",
    "- DataFrame( 2차원 이상의 데이터 )\n",
    "    - https://pandas.pydata.org/pandas-docs/stable/reference/api/pandas.DataFrame.html"
   ]
  },
  {
   "cell_type": "code",
   "execution_count": 1,
   "metadata": {},
   "outputs": [],
   "source": [
    "import pandas as pd\n",
    "import numpy as np"
   ]
  },
  {
   "cell_type": "code",
   "execution_count": 2,
   "metadata": {},
   "outputs": [],
   "source": [
    "# 1차원 데이터\n",
    "myList = [10,20,30,40] # 리스트\n",
    "t = (10,20,30,40) # 튜플\n",
    "d = {'aa':10,'bb':20,'cc':30} # 딕셔너리"
   ]
  },
  {
   "cell_type": "markdown",
   "metadata": {},
   "source": [
    "### 1. 시리즈(Series)\n",
    "- **1차원 데이터**\n",
    "- 리스트, 튜플, 딕셔너리 -> 시리즈 객체로 변환 가능\n",
    "- **딕셔너리의 키값은 자동적으로 시리즈의 인덱스가 된다**"
   ]
  },
  {
   "cell_type": "code",
   "execution_count": 3,
   "metadata": {},
   "outputs": [
    {
     "data": {
      "text/plain": [
       "aa    10\n",
       "bb    20\n",
       "cc    30\n",
       "dd    40\n",
       "Name: kor, dtype: int32"
      ]
     },
     "execution_count": 3,
     "metadata": {},
     "output_type": "execute_result"
    }
   ],
   "source": [
    "sr1 = pd.Series(myList\n",
    "                ,index=['aa','bb','cc','dd']   # *인덱스를 사용자가 직접 지정할 수 있다.\n",
    "                ,dtype=np.int32\n",
    "                ,name='kor') # *데이터에 대한 라벨링\n",
    "\n",
    "sr1 # 리스트를 시리즈 객체로 변환"
   ]
  },
  {
   "cell_type": "code",
   "execution_count": 10,
   "metadata": {},
   "outputs": [
    {
     "data": {
      "text/plain": [
       "0    10\n",
       "1    20\n",
       "2    30\n",
       "3    40\n",
       "dtype: int64"
      ]
     },
     "execution_count": 10,
     "metadata": {},
     "output_type": "execute_result"
    }
   ],
   "source": [
    "sr2 = pd.Series(t)\n",
    "sr2 # 튜플을 시리즈 객체로 변환"
   ]
  },
  {
   "cell_type": "code",
   "execution_count": 13,
   "metadata": {},
   "outputs": [
    {
     "data": {
      "text/plain": [
       "aa    10\n",
       "bb    20\n",
       "cc    30\n",
       "dtype: object"
      ]
     },
     "execution_count": 13,
     "metadata": {},
     "output_type": "execute_result"
    }
   ],
   "source": [
    "sr3 = pd.Series(d, dtype=np.str)\n",
    "sr3 # 딕셔너리를 시리즈 객체로 변환 **딕셔너리의 키값은 자동적으로 시리즈의 인덱스가 된다.**"
   ]
  }
 ],
 "metadata": {
  "kernelspec": {
   "display_name": "Python 3",
   "language": "python",
   "name": "python3"
  },
  "language_info": {
   "codemirror_mode": {
    "name": "ipython",
    "version": 3
   },
   "file_extension": ".py",
   "mimetype": "text/x-python",
   "name": "python",
   "nbconvert_exporter": "python",
   "pygments_lexer": "ipython3",
   "version": "3.7.6"
  }
 },
 "nbformat": 4,
 "nbformat_minor": 4
}
